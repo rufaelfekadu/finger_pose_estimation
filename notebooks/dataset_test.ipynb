{
 "cells": [
  {
   "cell_type": "code",
   "execution_count": 3,
   "metadata": {},
   "outputs": [],
   "source": [
    "#  imports\n",
    "import os\n",
    "import sys\n",
    "import time\n",
    "from datetime import datetime\n",
    "import numpy as np\n",
    "import pandas as pd\n",
    "import matplotlib.pyplot as plt\n",
    "import mne"
   ]
  },
  {
   "cell_type": "code",
   "execution_count": 4,
   "metadata": {},
   "outputs": [],
   "source": [
    "data_path = \"/Users/rufaelmarew/Documents/tau/finger_pose_estimation/dataset/FPE/S1/p3/fpe_pos3_001_S1_rep0_BT.edf\"\n"
   ]
  },
  {
   "cell_type": "code",
   "execution_count": 65,
   "metadata": {},
   "outputs": [],
   "source": [
    "def read_emg(path, start_time=None, end_time=None, fs: int=250):\n",
    "\n",
    "    raw = mne.io.read_raw_edf(path, preload=True)\n",
    "\n",
    "    # get header\n",
    "    header = raw.info\n",
    "\n",
    "    if start_time is None:\n",
    "        start_time = header['meas_date']\n",
    "        # convert to pd.datetime from datetime.datetime\n",
    "        start_time = pd.to_datetime(start_time).tz_localize(None)\n",
    "        print(start_time)\n",
    "    #  get annotations\n",
    "    annotations = raw.annotations\n",
    "    annotations.onset = start_time + pd.to_timedelta(annotations.onset, unit='s')\n",
    "    \n",
    "    # to dataframe\n",
    "    emg_df = raw.to_data_frame()\n",
    "\n",
    "\n",
    "    emg_df['time'] = pd.to_datetime(emg_df['time'], unit='s', utc=True, origin=start_time)\n",
    "    emg_df.set_index('time', inplace=True)\n",
    "\n",
    "    #  resample emg data to fs Hz\n",
    "    emg_df = emg_df.resample(f'{int(1000/fs)}ms', origin='start').mean()\n",
    "    return emg_df, annotations, header"
   ]
  },
  {
   "cell_type": "code",
   "execution_count": 67,
   "metadata": {},
   "outputs": [
    {
     "name": "stdout",
     "output_type": "stream",
     "text": [
      "Extracting EDF parameters from /Users/rufaelmarew/Documents/tau/finger_pose_estimation/dataset/FPE/S1/p3/fpe_pos3_001_S1_rep0_BT.edf...\n",
      "EDF file detected\n",
      "Setting channel info structure...\n",
      "Creating raw.info structure...\n",
      "Reading 0 ... 135499  =      0.000 ...   541.996 secs...\n",
      "2024-01-02 13:17:25\n",
      "2024-01-02 13:17:29.048000 start_abduction\n",
      "2024-01-02 13:17:56.096000 end_abduction\n",
      "2024-01-02 13:18:01.136000 start_threefingers\n",
      "2024-01-02 13:18:06.172000 end_threefingers\n",
      "2024-01-02 13:18:11.288000 start_threefingers\n",
      "2024-01-02 13:18:16.244000 end_threefingers\n",
      "2024-01-02 13:18:21.436000 start_tet\n",
      "2024-01-02 13:18:26.392000 end_tet\n",
      "2024-01-02 13:18:31.516000 start_twofingers\n",
      "2024-01-02 13:18:36.552000 end_twofingers\n",
      "2024-01-02 13:18:41.588000 start_threefingers\n",
      "2024-01-02 13:18:46.628000 end_threefingers\n",
      "2024-01-02 13:18:51.744000 start_fist\n",
      "2024-01-02 13:18:56.700000 end_fist\n",
      "2024-01-02 13:19:01.812000 start_het\n",
      "2024-01-02 13:19:06.852000 end_het\n",
      "2024-01-02 13:19:11.920000 start_abduction\n",
      "2024-01-02 13:19:16.924000 end_abduction\n",
      "2024-01-02 13:19:22.044000 start_gimel\n",
      "2024-01-02 13:19:27 end_gimel\n",
      "2024-01-02 13:19:32.108000 start_twofingers\n",
      "2024-01-02 13:19:37.148000 end_twofingers\n",
      "2024-01-02 13:19:42.272000 start_nun\n",
      "2024-01-02 13:19:47.224000 end_nun\n",
      "2024-01-02 13:19:52.340000 start_tet\n",
      "2024-01-02 13:19:57.380000 end_tet\n",
      "2024-01-02 13:20:02.488000 start_threefingers\n",
      "2024-01-02 13:20:07.444000 end_threefingers\n",
      "2024-01-02 13:20:12.568000 start_twofingers\n",
      "2024-01-02 13:20:17.604000 end_twofingers\n",
      "2024-01-02 13:20:22.644000 start_twofingers\n",
      "2024-01-02 13:20:27.680000 end_twofingers\n",
      "2024-01-02 13:20:32.784000 start_nun\n",
      "2024-01-02 13:20:37.824000 end_nun\n",
      "2024-01-02 13:20:42.864000 start_threefingers\n",
      "2024-01-02 13:20:47.904000 end_threefingers\n",
      "2024-01-02 13:20:53.020000 start_kaf\n",
      "2024-01-02 13:20:57.980000 end_kaf\n",
      "2024-01-02 13:21:03.096000 start_abduction\n",
      "2024-01-02 13:21:08.132000 end_abduction\n",
      "2024-01-02 13:21:13.188000 start_bet\n",
      "2024-01-02 13:21:18.204000 end_bet\n",
      "2024-01-02 13:21:23.320000 start_gimel\n",
      "2024-01-02 13:21:28.280000 end_gimel\n",
      "2024-01-02 13:21:33.396000 start_abduction\n",
      "2024-01-02 13:21:38.432000 end_abduction\n",
      "2024-01-02 13:21:43.484000 start_het\n",
      "2024-01-02 13:21:48.504000 end_het\n",
      "2024-01-02 13:21:53.620000 start_tet\n",
      "2024-01-02 13:21:58.660000 end_tet\n",
      "2024-01-02 13:22:03.776000 start_kaf\n",
      "2024-01-02 13:22:08.812000 end_kaf\n",
      "2024-01-02 13:22:13.920000 start_tet\n",
      "2024-01-02 13:22:18.960000 end_tet\n",
      "2024-01-02 13:22:24 start_kaf\n",
      "2024-01-02 13:22:29.040000 end_kaf\n",
      "2024-01-02 13:22:34.136000 start_nun\n",
      "2024-01-02 13:22:39.112000 end_nun\n",
      "2024-01-02 13:22:44.228000 start_kaf\n",
      "2024-01-02 13:22:49.268000 end_kaf\n",
      "2024-01-02 13:22:54.380000 start_abduction\n",
      "2024-01-02 13:22:59.336000 end_abduction\n",
      "2024-01-02 13:23:04.456000 start_nun\n",
      "2024-01-02 13:23:09.492000 end_nun\n",
      "2024-01-02 13:23:14.568000 start_het\n",
      "2024-01-02 13:23:19.568000 end_het\n",
      "2024-01-02 13:23:24.704000 start_nun\n",
      "2024-01-02 13:23:29.716000 end_nun\n",
      "2024-01-02 13:23:34.836000 start_het\n",
      "2024-01-02 13:23:39.796000 end_het\n",
      "2024-01-02 13:23:44.908000 start_twofingers\n",
      "2024-01-02 13:23:49.948000 end_twofingers\n",
      "2024-01-02 13:23:55.056000 start_tet\n",
      "2024-01-02 13:24:00.040000 end_tet\n",
      "2024-01-02 13:24:05.136000 start_kaf\n",
      "2024-01-02 13:24:10.172000 end_kaf\n",
      "2024-01-02 13:24:15.208000 start_het\n",
      "2024-01-02 13:24:20.244000 end_het\n",
      "2024-01-02 13:24:25.360000 start_abduction\n",
      "2024-01-02 13:24:30.400000 end_abduction\n",
      "2024-01-02 13:24:35.516000 start_bet\n",
      "2024-01-02 13:24:40.472000 end_bet\n",
      "2024-01-02 13:24:45.588000 start_fist\n",
      "2024-01-02 13:24:50.608000 end_fist\n",
      "2024-01-02 13:24:55.664000 start_bet\n",
      "2024-01-02 13:25:00.696000 end_bet\n",
      "2024-01-02 13:25:05.812000 start_fist\n",
      "2024-01-02 13:25:10.824000 end_fist\n",
      "2024-01-02 13:25:15.888000 start_bet\n",
      "2024-01-02 13:25:20.924000 end_bet\n",
      "2024-01-02 13:25:26.028000 start_bet\n",
      "2024-01-02 13:25:31 end_bet\n",
      "2024-01-02 13:25:36.116000 start_fist\n",
      "2024-01-02 13:25:41.148000 end_fist\n",
      "2024-01-02 13:25:46.268000 start_gimel\n",
      "2024-01-02 13:25:51.228000 end_gimel\n",
      "2024-01-02 13:25:56.344000 start_gimel\n",
      "2024-01-02 13:26:01.308000 end_gimel\n",
      "2024-01-02 13:26:06.416000 start_gimel\n",
      "2024-01-02 13:26:11.452000 end_gimel\n",
      "2024-01-02 13:26:16.568000 start_fist\n",
      "2024-01-02 13:26:21.608000 end_fist\n",
      "2024-01-02 13:26:26.644000 end_experiment\n"
     ]
    }
   ],
   "source": [
    "emg_data, ann, header = read_emg(path = data_path)"
   ]
  },
  {
   "cell_type": "code",
   "execution_count": 71,
   "metadata": {},
   "outputs": [
    {
     "name": "stdout",
     "output_type": "stream",
     "text": [
      "25000 50\n"
     ]
    },
    {
     "data": {
      "text/plain": [
       "((2210, 400000), (2210,))"
      ]
     },
     "execution_count": 71,
     "metadata": {},
     "output_type": "execute_result"
    }
   ],
   "source": [
    "def create_windowed_dataset(df, w, s, fs):\n",
    "    # Convert window size and stride from seconds to number of rows\n",
    "    w_rows = int(w * fs)\n",
    "    s_rows = int(s * fs)\n",
    "    print(w_rows, s_rows)\n",
    "    data = []\n",
    "    times = []\n",
    "    for i in range(0, len(df) - w_rows, s_rows):\n",
    "        window = df.iloc[i:i+w_rows]\n",
    "        data.append(window.values)\n",
    "        times.append(window.index[-1])\n",
    "\n",
    "    data = np.array(data)\n",
    "    times = np.array(times)\n",
    "\n",
    "    # Reshape data to (N-w)/(S)*W*C\n",
    "    data = data.reshape((-1, w_rows * df.shape[1]))\n",
    "\n",
    "    return data, times\n",
    "\n",
    "data, times = create_windowed_dataset(emg_data, 1, 0.2, fs=250)\n",
    "data.shape, times.shape"
   ]
  },
  {
   "cell_type": "code",
   "execution_count": null,
   "metadata": {},
   "outputs": [],
   "source": []
  }
 ],
 "metadata": {
  "kernelspec": {
   "display_name": "test",
   "language": "python",
   "name": "python3"
  },
  "language_info": {
   "codemirror_mode": {
    "name": "ipython",
    "version": 3
   },
   "file_extension": ".py",
   "mimetype": "text/x-python",
   "name": "python",
   "nbconvert_exporter": "python",
   "pygments_lexer": "ipython3",
   "version": "3.10.13"
  }
 },
 "nbformat": 4,
 "nbformat_minor": 2
}
